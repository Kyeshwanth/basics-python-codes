{
 "cells": [
  {
   "cell_type": "code",
   "execution_count": 1,
   "id": "18d92316",
   "metadata": {},
   "outputs": [
    {
     "name": "stdout",
     "output_type": "stream",
     "text": [
      "hello world\n"
     ]
    }
   ],
   "source": [
    "print(\"hello world\")\n"
   ]
  },
  {
   "cell_type": "code",
   "execution_count": 1,
   "id": "40fc895b",
   "metadata": {},
   "outputs": [
    {
     "name": "stdout",
     "output_type": "stream",
     "text": [
      "The Batman WB 100 million Nolan\n"
     ]
    }
   ],
   "source": [
    "class movies:\n",
    "    def __init__(self,names,producers,budget,screenplay):\n",
    "        self.names=names\n",
    "        self.producers=producers\n",
    "        self.budget=budget\n",
    "        self.screenplay=screenplay\n",
    "        \n",
    "        \n",
    "    def list(self):\n",
    "        print(self.names,self.producers,self.budget,self.screenplay)\n",
    "        \n",
    "        \n",
    "        \n",
    "m1=movies(\"The Batman\",\"WB\",\"100 million\",\"Nolan\")\n",
    "\n",
    "m1.list()"
   ]
  },
  {
   "cell_type": "code",
   "execution_count": 18,
   "id": "2ac7a0ef",
   "metadata": {},
   "outputs": [
    {
     "name": "stdout",
     "output_type": "stream",
     "text": [
      "16gb 1 tb 512 gb 3 ghz 1080p B&O yes macbook apple 1200 $\n",
      "apple\n",
      "3 ghz\n"
     ]
    }
   ],
   "source": [
    "class laptop:\n",
    "    def __init__(self,name,brand,cost,ram,hdd,ssd,speed,cam,speakers,blit):\n",
    "        self.name=name\n",
    "        self.brand=brand\n",
    "        self.cost=cost\n",
    "        self.ram=ram\n",
    "        self.hdd=hdd\n",
    "        self.ssd=ssd\n",
    "        self.speed=speed\n",
    "        self.cam=cam\n",
    "        self.speakers=speakers\n",
    "        self.blit=blit\n",
    "        \n",
    "        \n",
    "    def specs2(self):\n",
    "        print(self.ram,\n",
    "              self.hdd,\n",
    "              self.ssd,\n",
    "              self.speed,\n",
    "              self.cam,\n",
    "              self.speakers,\n",
    "              self.blit,\n",
    "              self.name,\n",
    "              self.brand,\n",
    "              self.cost)\n",
    "        \n",
    "       \n",
    "        \n",
    "l1=laptop( \"macbook\",\"apple\",\"1200 $\",\"16gb\",\"1 tb\",\"512 gb\",\"3 ghz\",\"1080p\",\"B&O\",\"yes\")\n",
    "\n",
    "l1.specs2()\n",
    "\n",
    "print(l1.brand)\n",
    "\n",
    "print(l1.speed)\n",
    "\n"
   ]
  },
  {
   "cell_type": "code",
   "execution_count": 9,
   "id": "8d6dbc22",
   "metadata": {},
   "outputs": [
    {
     "name": "stdout",
     "output_type": "stream",
     "text": [
      "[[ 2  4  7]\n",
      " [13 16 18]\n",
      " [ 8 10 13]]\n",
      "[[ 2  4  7]\n",
      " [13 16 18]\n",
      " [ 8 10 13]]\n"
     ]
    }
   ],
   "source": [
    "from numpy import *\n",
    "\n",
    "\n",
    "m1=matrix('1 2 3  ;  7 8 9 ; 4 5 6 ')\n",
    "m2=matrix('1 2 4  ;  6 8 9 ; 4 5 7 ')\n",
    "\n",
    "m3=m1+m2\n",
    "print(m3.reshape(3,3))\n",
    "print(m3)\n",
    "\n",
    "\n",
    "        \n"
   ]
  },
  {
   "cell_type": "code",
   "execution_count": 12,
   "id": "bf32221f",
   "metadata": {},
   "outputs": [
    {
     "name": "stdout",
     "output_type": "stream",
     "text": [
      "enter the values for calculation3+3\n",
      "6\n"
     ]
    }
   ],
   "source": [
    "result=eval(input(\"enter the values for calculation\"))\n",
    "print(result)\n"
   ]
  },
  {
   "cell_type": "code",
   "execution_count": null,
   "id": "209f1070",
   "metadata": {},
   "outputs": [],
   "source": []
  },
  {
   "cell_type": "code",
   "execution_count": null,
   "id": "27fcccc6",
   "metadata": {},
   "outputs": [],
   "source": []
  }
 ],
 "metadata": {
  "kernelspec": {
   "display_name": "Python 3 (ipykernel)",
   "language": "python",
   "name": "python3"
  },
  "language_info": {
   "codemirror_mode": {
    "name": "ipython",
    "version": 3
   },
   "file_extension": ".py",
   "mimetype": "text/x-python",
   "name": "python",
   "nbconvert_exporter": "python",
   "pygments_lexer": "ipython3",
   "version": "3.10.9"
  }
 },
 "nbformat": 4,
 "nbformat_minor": 5
}
